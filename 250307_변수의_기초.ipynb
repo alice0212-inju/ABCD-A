{
  "nbformat": 4,
  "nbformat_minor": 0,
  "metadata": {
    "colab": {
      "provenance": [],
      "authorship_tag": "ABX9TyOy3TPpzm2FM6qmhJJkgvUA",
      "include_colab_link": true
    },
    "kernelspec": {
      "name": "python3",
      "display_name": "Python 3"
    },
    "language_info": {
      "name": "python"
    }
  },
  "cells": [
    {
      "cell_type": "markdown",
      "metadata": {
        "id": "view-in-github",
        "colab_type": "text"
      },
      "source": [
        "<a href=\"https://colab.research.google.com/github/alice0212-inju/ABCD-A/blob/20250307/250307_%EB%B3%80%EC%88%98%EC%9D%98_%EA%B8%B0%EC%B4%88.ipynb\" target=\"_parent\"><img src=\"https://colab.research.google.com/assets/colab-badge.svg\" alt=\"Open In Colab\"/></a>"
      ]
    },
    {
      "cell_type": "code",
      "execution_count": 9,
      "metadata": {
        "colab": {
          "base_uri": "https://localhost:8080/"
        },
        "id": "aTFAsrtsKc7O",
        "outputId": "b384e053-6df1-4b22-ac7e-0bd91c99a72f"
      },
      "outputs": [
        {
          "output_type": "stream",
          "name": "stdout",
          "text": [
            "pig\n",
            "dad\n",
            "100000\n",
            "pigdad\n",
            "pig dad\n"
          ]
        }
      ],
      "source": [
        "watch=100000\n",
        "a='pig'\n",
        "b='dad'\n",
        "print(a)\n",
        "print(b)\n",
        "print(watch)\n",
        "print(a+b)\n",
        "print(a+' '+b)"
      ]
    },
    {
      "cell_type": "code",
      "source": [
        "a=10\n",
        "a,b=(10,20)\n",
        "[a,b]=[10,20]\n",
        "a=b=10\n",
        "a=None"
      ],
      "metadata": {
        "id": "gzgdn_lmK9BL"
      },
      "execution_count": 10,
      "outputs": []
    },
    {
      "cell_type": "code",
      "source": [
        "a=10\n",
        "b=2000\n",
        "a,b=b,a"
      ],
      "metadata": {
        "id": "O7HUT-cmLDI_"
      },
      "execution_count": 11,
      "outputs": []
    },
    {
      "cell_type": "code",
      "source": [
        "a=[10,20,30]"
      ],
      "metadata": {
        "id": "bsoHxaYwLdxp"
      },
      "execution_count": 8,
      "outputs": []
    },
    {
      "cell_type": "code",
      "source": [
        "a=[10,20,30]\n",
        "b=a"
      ],
      "metadata": {
        "id": "QThtu9GdLjkU"
      },
      "execution_count": 5,
      "outputs": []
    },
    {
      "cell_type": "code",
      "source": [
        "a=[10,20,30]\n",
        "b=a"
      ],
      "metadata": {
        "id": "Rmu7HB6mLv7W"
      },
      "execution_count": null,
      "outputs": []
    },
    {
      "cell_type": "code",
      "source": [
        "a=[10,20,30]\n",
        "b=a\n",
        "a[0]=200\n",
        "print(b)"
      ],
      "metadata": {
        "colab": {
          "base_uri": "https://localhost:8080/"
        },
        "id": "Ut1PPShBLzso",
        "outputId": "7bf6a9e3-0743-4b14-f21b-82991e0a80ab"
      },
      "execution_count": 12,
      "outputs": [
        {
          "output_type": "stream",
          "name": "stdout",
          "text": [
            "[200, 20, 30]\n"
          ]
        }
      ]
    },
    {
      "cell_type": "code",
      "source": [
        "#day1 프로그램\n",
        "a=[10,20,30]\n",
        "print(a)"
      ],
      "metadata": {
        "colab": {
          "base_uri": "https://localhost:8080/"
        },
        "id": "rSdRGmsfL-eO",
        "outputId": "c980e021-a666-413d-b069-14c8908c9538"
      },
      "execution_count": 13,
      "outputs": [
        {
          "output_type": "stream",
          "name": "stdout",
          "text": [
            "[10, 20, 30]\n"
          ]
        }
      ]
    },
    {
      "cell_type": "code",
      "source": [
        "print(\"Hello word\")\n",
        "print(1)"
      ],
      "metadata": {
        "colab": {
          "base_uri": "https://localhost:8080/"
        },
        "id": "j07a-pDaMFnM",
        "outputId": "79386c7d-4250-4cea-d34e-05f7c2d53d22"
      },
      "execution_count": 14,
      "outputs": [
        {
          "output_type": "stream",
          "name": "stdout",
          "text": [
            "Hello word\n",
            "1\n"
          ]
        }
      ]
    },
    {
      "cell_type": "code",
      "source": [
        "print(\"a=\"+str(a))"
      ],
      "metadata": {
        "colab": {
          "base_uri": "https://localhost:8080/"
        },
        "id": "vAAV6o9EMQJP",
        "outputId": "22281174-c9c0-48c3-a8ac-d27e18eecf53"
      },
      "execution_count": 15,
      "outputs": [
        {
          "output_type": "stream",
          "name": "stdout",
          "text": [
            "a=[10, 20, 30]\n"
          ]
        }
      ]
    },
    {
      "cell_type": "code",
      "source": [
        "print(\"a=\", a)"
      ],
      "metadata": {
        "colab": {
          "base_uri": "https://localhost:8080/"
        },
        "id": "QxdGNJyYMXSw",
        "outputId": "25ecc96e-c03e-4d53-f363-c5a427137d9e"
      },
      "execution_count": 18,
      "outputs": [
        {
          "output_type": "stream",
          "name": "stdout",
          "text": [
            "a= [10, 20, 30]\n"
          ]
        }
      ]
    },
    {
      "cell_type": "code",
      "source": [
        "print(\"a=\", a)"
      ],
      "metadata": {
        "colab": {
          "base_uri": "https://localhost:8080/"
        },
        "id": "Kfu-dwPOMjJF",
        "outputId": "87ff76fc-4eb2-4354-ead9-39c1edc0e0cb"
      },
      "execution_count": 19,
      "outputs": [
        {
          "output_type": "stream",
          "name": "stdout",
          "text": [
            "a= [10, 20, 30]\n"
          ]
        }
      ]
    },
    {
      "cell_type": "code",
      "source": [
        "print( \"a ={}\". format(a))"
      ],
      "metadata": {
        "colab": {
          "base_uri": "https://localhost:8080/"
        },
        "id": "mMIfkPzyMngd",
        "outputId": "9c86dafb-92b1-47ba-a492-3f973b0dd157"
      },
      "execution_count": 20,
      "outputs": [
        {
          "output_type": "stream",
          "name": "stdout",
          "text": [
            "a =[10, 20, 30]\n"
          ]
        }
      ]
    },
    {
      "cell_type": "code",
      "source": [
        "#dat1 프로그램\n",
        "a=[10,20,30]\n",
        "b=1\n",
        "print(a)\n",
        "print(\"a{}\". format(a))\n",
        "print(\"b{}\". format(b))"
      ],
      "metadata": {
        "colab": {
          "base_uri": "https://localhost:8080/"
        },
        "id": "8ui0dfvXMt-h",
        "outputId": "322b0d6c-0d8c-4357-8f6d-91114531c451"
      },
      "execution_count": 21,
      "outputs": [
        {
          "output_type": "stream",
          "name": "stdout",
          "text": [
            "[10, 20, 30]\n",
            "a[10, 20, 30]\n",
            "b1\n"
          ]
        }
      ]
    },
    {
      "cell_type": "code",
      "source": [
        "a=1\n",
        "b=2\n",
        "print( \"a={}, b={}\". format(a,b))"
      ],
      "metadata": {
        "colab": {
          "base_uri": "https://localhost:8080/"
        },
        "id": "6tD75ERONEgK",
        "outputId": "96b518ff-5800-4876-d864-3a1af5c23560"
      },
      "execution_count": 22,
      "outputs": [
        {
          "output_type": "stream",
          "name": "stdout",
          "text": [
            "a=1, b=2\n"
          ]
        }
      ]
    },
    {
      "cell_type": "markdown",
      "source": [],
      "metadata": {
        "id": "su_RqUZgNRsV"
      }
    },
    {
      "cell_type": "markdown",
      "source": [],
      "metadata": {
        "id": "Um8DbsIPNZ-9"
      }
    },
    {
      "cell_type": "markdown",
      "source": [],
      "metadata": {
        "id": "yQvHsG-ANaMy"
      }
    }
  ]
}