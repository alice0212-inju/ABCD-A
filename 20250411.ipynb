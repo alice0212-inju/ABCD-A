{
  "nbformat": 4,
  "nbformat_minor": 0,
  "metadata": {
    "colab": {
      "provenance": [],
      "authorship_tag": "ABX9TyP0xZbJCwJmjH6kG87ILpTm",
      "include_colab_link": true
    },
    "kernelspec": {
      "name": "python3",
      "display_name": "Python 3"
    },
    "language_info": {
      "name": "python"
    }
  },
  "cells": [
    {
      "cell_type": "markdown",
      "metadata": {
        "id": "view-in-github",
        "colab_type": "text"
      },
      "source": [
        "<a href=\"https://colab.research.google.com/github/alice0212-inju/ABCD-A/blob/250411/20250411.ipynb\" target=\"_parent\"><img src=\"https://colab.research.google.com/assets/colab-badge.svg\" alt=\"Open In Colab\"/></a>"
      ]
    },
    {
      "cell_type": "code",
      "execution_count": 7,
      "metadata": {
        "colab": {
          "base_uri": "https://localhost:8080/"
        },
        "id": "iI25zoSdNDXW",
        "outputId": "ce7ce3ef-a58b-46a5-acf2-05994751524c"
      },
      "outputs": [
        {
          "output_type": "stream",
          "name": "stdout",
          "text": [
            "number:2\n",
            "2\n"
          ]
        }
      ],
      "source": [
        "x=int(input(\"number:\"))\n",
        "print(x)"
      ]
    },
    {
      "cell_type": "code",
      "source": [
        "year=input(\"this year:\")\n",
        "year=eval(year)\n",
        "year=year+1\n",
        "print(\"Next year:\" , year)"
      ],
      "metadata": {
        "colab": {
          "base_uri": "https://localhost:8080/"
        },
        "id": "OTcIP215Oi-U",
        "outputId": "2d766eac-7395-4ea6-acf2-1a3f55656af0"
      },
      "execution_count": 6,
      "outputs": [
        {
          "output_type": "stream",
          "name": "stdout",
          "text": [
            "this year:2025\n",
            "Next year: 2026\n"
          ]
        }
      ]
    },
    {
      "cell_type": "code",
      "source": [
        "i=0\n",
        "result=0\n",
        "while i<5:\n",
        "       print(f'{i+1}번째', end=\" \")\n",
        "       a= input(\"성적 입력 :\")\n",
        "       result +=int(a)\n",
        "       i +=1\n",
        "       2\n",
        "       print(f'합: {result}')\n",
        "       print(f'평균 :{result/5}')"
      ],
      "metadata": {
        "colab": {
          "base_uri": "https://localhost:8080/"
        },
        "id": "jGbeNe0AO5VV",
        "outputId": "d7dc9ce5-08cc-40d3-885d-4caeeac76ba0"
      },
      "execution_count": 14,
      "outputs": [
        {
          "output_type": "stream",
          "name": "stdout",
          "text": [
            "1번째 성적 입력 :58\n",
            "합: 58\n",
            "평균 :11.6\n",
            "2번째 성적 입력 :100\n",
            "합: 158\n",
            "평균 :31.6\n",
            "3번째 성적 입력 :50\n",
            "합: 208\n",
            "평균 :41.6\n",
            "4번째 성적 입력 :25\n",
            "합: 233\n",
            "평균 :46.6\n",
            "5번째 성적 입력 :60\n",
            "합: 293\n",
            "평균 :58.6\n"
          ]
        }
      ]
    },
    {
      "cell_type": "code",
      "source": [
        "test_list=['one','two','three']\n",
        "for i in test_list:\n",
        "        print(i)"
      ],
      "metadata": {
        "colab": {
          "base_uri": "https://localhost:8080/"
        },
        "id": "r_8AOpDJQeio",
        "outputId": "cceec2dd-3c81-4582-c773-065828583c2c"
      },
      "execution_count": 16,
      "outputs": [
        {
          "output_type": "stream",
          "name": "stdout",
          "text": [
            "one\n",
            "two\n",
            "three\n"
          ]
        }
      ]
    },
    {
      "cell_type": "code",
      "source": [
        "for i in range(10):\n",
        "    print(i)"
      ],
      "metadata": {
        "colab": {
          "base_uri": "https://localhost:8080/"
        },
        "id": "JAEW_yLNQsg5",
        "outputId": "8466e7ea-8dbe-434d-a353-5364cfd1db4d"
      },
      "execution_count": 17,
      "outputs": [
        {
          "output_type": "stream",
          "name": "stdout",
          "text": [
            "0\n",
            "1\n",
            "2\n",
            "3\n",
            "4\n",
            "5\n",
            "6\n",
            "7\n",
            "8\n",
            "9\n"
          ]
        }
      ]
    },
    {
      "cell_type": "code",
      "source": [
        "result=0\n",
        "for a in range(1,101): #1~100\n",
        "    result = result + a\n",
        "    print(f'{a} {result}')\n",
        "print(result)"
      ],
      "metadata": {
        "colab": {
          "base_uri": "https://localhost:8080/"
        },
        "id": "RAgyKQ_QQ245",
        "outputId": "a7e45b06-b8bd-4926-9fe6-60307c95dc9b"
      },
      "execution_count": 19,
      "outputs": [
        {
          "output_type": "stream",
          "name": "stdout",
          "text": [
            "1 1\n",
            "2 3\n",
            "3 6\n",
            "4 10\n",
            "5 15\n",
            "6 21\n",
            "7 28\n",
            "8 36\n",
            "9 45\n",
            "10 55\n",
            "11 66\n",
            "12 78\n",
            "13 91\n",
            "14 105\n",
            "15 120\n",
            "16 136\n",
            "17 153\n",
            "18 171\n",
            "19 190\n",
            "20 210\n",
            "21 231\n",
            "22 253\n",
            "23 276\n",
            "24 300\n",
            "25 325\n",
            "26 351\n",
            "27 378\n",
            "28 406\n",
            "29 435\n",
            "30 465\n",
            "31 496\n",
            "32 528\n",
            "33 561\n",
            "34 595\n",
            "35 630\n",
            "36 666\n",
            "37 703\n",
            "38 741\n",
            "39 780\n",
            "40 820\n",
            "41 861\n",
            "42 903\n",
            "43 946\n",
            "44 990\n",
            "45 1035\n",
            "46 1081\n",
            "47 1128\n",
            "48 1176\n",
            "49 1225\n",
            "50 1275\n",
            "51 1326\n",
            "52 1378\n",
            "53 1431\n",
            "54 1485\n",
            "55 1540\n",
            "56 1596\n",
            "57 1653\n",
            "58 1711\n",
            "59 1770\n",
            "60 1830\n",
            "61 1891\n",
            "62 1953\n",
            "63 2016\n",
            "64 2080\n",
            "65 2145\n",
            "66 2211\n",
            "67 2278\n",
            "68 2346\n",
            "69 2415\n",
            "70 2485\n",
            "71 2556\n",
            "72 2628\n",
            "73 2701\n",
            "74 2775\n",
            "75 2850\n",
            "76 2926\n",
            "77 3003\n",
            "78 3081\n",
            "79 3160\n",
            "80 3240\n",
            "81 3321\n",
            "82 3403\n",
            "83 3486\n",
            "84 3570\n",
            "85 3655\n",
            "86 3741\n",
            "87 3828\n",
            "88 3916\n",
            "89 4005\n",
            "90 4095\n",
            "91 4186\n",
            "92 4278\n",
            "93 4371\n",
            "94 4465\n",
            "95 4560\n",
            "96 4656\n",
            "97 4753\n",
            "98 4851\n",
            "99 4950\n",
            "100 5050\n",
            "5050\n"
          ]
        }
      ]
    },
    {
      "cell_type": "code",
      "source": [
        "result=0\n",
        "for a in range(1,101):\n",
        "      result=result+a\n",
        "      print(f'{a};sum={result}')\n",
        "      if result>100:\n",
        "                  break\n",
        "\n",
        "      print(result)"
      ],
      "metadata": {
        "colab": {
          "base_uri": "https://localhost:8080/"
        },
        "id": "MkpmEuCeRYPt",
        "outputId": "73599116-566c-4753-9433-6adcb6633ad5"
      },
      "execution_count": 20,
      "outputs": [
        {
          "output_type": "stream",
          "name": "stdout",
          "text": [
            "1;sum=1\n",
            "1\n",
            "2;sum=3\n",
            "3\n",
            "3;sum=6\n",
            "6\n",
            "4;sum=10\n",
            "10\n",
            "5;sum=15\n",
            "15\n",
            "6;sum=21\n",
            "21\n",
            "7;sum=28\n",
            "28\n",
            "8;sum=36\n",
            "36\n",
            "9;sum=45\n",
            "45\n",
            "10;sum=55\n",
            "55\n",
            "11;sum=66\n",
            "66\n",
            "12;sum=78\n",
            "78\n",
            "13;sum=91\n",
            "91\n",
            "14;sum=105\n"
          ]
        }
      ]
    },
    {
      "cell_type": "code",
      "source": [
        "index=0\n",
        "s=\"BlockMask\"\n",
        "for a in s:\n",
        "      print(a, end = ' ')\n",
        "      if a =='k':\n",
        "             break\n",
        "\n",
        "      index=index + 1\n",
        "\n",
        "print(index)"
      ],
      "metadata": {
        "colab": {
          "base_uri": "https://localhost:8080/"
        },
        "id": "O8nvMB3AR0Z3",
        "outputId": "4e885c45-8ee6-4c7a-f429-4676dd17602a"
      },
      "execution_count": 33,
      "outputs": [
        {
          "output_type": "stream",
          "name": "stdout",
          "text": [
            "B l o c k 4\n"
          ]
        }
      ]
    },
    {
      "cell_type": "code",
      "source": [
        "student=[180,170,164,199,182,172,177]\n",
        "for a in student:\n",
        "   if a > 170:\n",
        "\n",
        "      continue\n",
        "\n",
        "print(a)"
      ],
      "metadata": {
        "colab": {
          "base_uri": "https://localhost:8080/"
        },
        "id": "AcrS0RV6SX_y",
        "outputId": "21985ae1-dc6e-4876-8ea5-365528838a08"
      },
      "execution_count": 35,
      "outputs": [
        {
          "output_type": "stream",
          "name": "stdout",
          "text": [
            "177\n"
          ]
        }
      ]
    },
    {
      "cell_type": "code",
      "source": [
        "result=0\n",
        "for a in range(1,101):\n",
        "       if a % 2==0:\n",
        "\n",
        "              continue\n",
        "       result= result+a\n",
        "\n",
        "print(result)"
      ],
      "metadata": {
        "colab": {
          "base_uri": "https://localhost:8080/"
        },
        "id": "SDz1ujIvSwpJ",
        "outputId": "ecb91778-902b-4089-ab68-d47329a61428"
      },
      "execution_count": 36,
      "outputs": [
        {
          "output_type": "stream",
          "name": "stdout",
          "text": [
            "2500\n"
          ]
        }
      ]
    },
    {
      "cell_type": "code",
      "source": [
        "l= ['Alice' , 'Bob' , 'Charlie']\n",
        "\n",
        "for name in l:\n",
        "    if name=='Bob':\n",
        "       print('!!BREAK!!')\n",
        "       break\n",
        "    print(name)\n",
        "else:\n",
        "    print('!!FINISH!!')"
      ],
      "metadata": {
        "colab": {
          "base_uri": "https://localhost:8080/"
        },
        "id": "jVIP1G0eTKlv",
        "outputId": "50084802-f71a-48f9-8d61-962d00197f32"
      },
      "execution_count": 37,
      "outputs": [
        {
          "output_type": "stream",
          "name": "stdout",
          "text": [
            "Alice\n",
            "!!BREAK!!\n"
          ]
        }
      ]
    },
    {
      "cell_type": "code",
      "source": [
        "sr=['father', 'mother', \"brother\"]\n",
        "cnt=0\n",
        "for s in sr:\n",
        "       for c in s:\n",
        "           if c =='r':\n",
        "              cnt+=1\n",
        "\n",
        "print(cnt)"
      ],
      "metadata": {
        "colab": {
          "base_uri": "https://localhost:8080/"
        },
        "id": "8ac4ybRPTfM3",
        "outputId": "a37a0b21-1fe7-4087-b77c-5f721c0009c3"
      },
      "execution_count": 38,
      "outputs": [
        {
          "output_type": "stream",
          "name": "stdout",
          "text": [
            "4\n"
          ]
        }
      ]
    },
    {
      "cell_type": "code",
      "source": [
        "a=[]\n",
        "\n",
        "for i in range(10):\n",
        "    a.append(0)\n",
        "\n",
        "print(a)"
      ],
      "metadata": {
        "colab": {
          "base_uri": "https://localhost:8080/"
        },
        "id": "xkNjAXJpUV_O",
        "outputId": "dc32bde4-b5ba-49d4-8479-625c53eb8a87"
      },
      "execution_count": 42,
      "outputs": [
        {
          "output_type": "stream",
          "name": "stdout",
          "text": [
            "[0, 0, 0, 0, 0, 0, 0, 0, 0, 0]\n"
          ]
        }
      ]
    },
    {
      "cell_type": "code",
      "source": [
        "a=[]\n",
        "for i in range(3):\n",
        "    line =[]\n",
        "    for j in range(2):\n",
        "        line.append(0)\n",
        "    a.append(line)\n",
        "\n",
        "print(a)"
      ],
      "metadata": {
        "colab": {
          "base_uri": "https://localhost:8080/"
        },
        "id": "YCnRWy8VUrlq",
        "outputId": "9a3c6477-b855-4dc8-ccce-168551494151"
      },
      "execution_count": 43,
      "outputs": [
        {
          "output_type": "stream",
          "name": "stdout",
          "text": [
            "[[0, 0], [0, 0], [0, 0]]\n"
          ]
        }
      ]
    },
    {
      "cell_type": "code",
      "source": [
        "l=['Alice', 'Bob', 'Charlie']\n",
        "\n",
        "for name in l:\n",
        "    print(name)\n",
        "\n",
        "for i, name in enumerate(l):\n",
        "    print(i,name)"
      ],
      "metadata": {
        "colab": {
          "base_uri": "https://localhost:8080/"
        },
        "id": "ckWVEGrCVBnK",
        "outputId": "64ae9dc3-55b9-41a1-bda5-ddb7ae395894"
      },
      "execution_count": 44,
      "outputs": [
        {
          "output_type": "stream",
          "name": "stdout",
          "text": [
            "Alice\n",
            "Bob\n",
            "Charlie\n",
            "0 Alice\n",
            "1 Bob\n",
            "2 Charlie\n"
          ]
        }
      ]
    },
    {
      "cell_type": "code",
      "source": [
        "for i , name in enumerate(l,1):\n",
        "    print(i,name)\n",
        "\n",
        "for i, name in enumerate(l,42):\n",
        "    print(i,name)"
      ],
      "metadata": {
        "colab": {
          "base_uri": "https://localhost:8080/"
        },
        "id": "MXPxImnFVTyi",
        "outputId": "84aa7a88-c0bb-4946-e130-7c641eda7e82"
      },
      "execution_count": 45,
      "outputs": [
        {
          "output_type": "stream",
          "name": "stdout",
          "text": [
            "1 Alice\n",
            "2 Bob\n",
            "3 Charlie\n",
            "42 Alice\n",
            "43 Bob\n",
            "44 Charlie\n"
          ]
        }
      ]
    },
    {
      "cell_type": "code",
      "source": [
        "print(list(range(0,10,3)))"
      ],
      "metadata": {
        "colab": {
          "base_uri": "https://localhost:8080/"
        },
        "id": "eoy4oRI-VeeB",
        "outputId": "48f963f7-e9f6-4361-8bc3-7b944969a2a1"
      },
      "execution_count": 46,
      "outputs": [
        {
          "output_type": "stream",
          "name": "stdout",
          "text": [
            "[0, 3, 6, 9]\n"
          ]
        }
      ]
    },
    {
      "cell_type": "code",
      "source": [
        "print(list(range(0,10,-3)))"
      ],
      "metadata": {
        "colab": {
          "base_uri": "https://localhost:8080/"
        },
        "id": "SrcbCQb7VnsC",
        "outputId": "57cfe64f-4b0d-42a9-ef97-f90a586809ad"
      },
      "execution_count": 47,
      "outputs": [
        {
          "output_type": "stream",
          "name": "stdout",
          "text": [
            "[]\n"
          ]
        }
      ]
    },
    {
      "cell_type": "code",
      "source": [
        "for i in range(0,10,-3):\n",
        "    print"
      ],
      "metadata": {
        "id": "pGcqS0I-VrFe"
      },
      "execution_count": 48,
      "outputs": []
    }
  ]
}