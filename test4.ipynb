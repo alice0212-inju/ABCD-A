{
  "nbformat": 4,
  "nbformat_minor": 0,
  "metadata": {
    "colab": {
      "provenance": [],
      "authorship_tag": "ABX9TyNC2KKrc5g3mq7JS/iaZA5l",
      "include_colab_link": true
    },
    "kernelspec": {
      "name": "python3",
      "display_name": "Python 3"
    },
    "language_info": {
      "name": "python"
    }
  },
  "cells": [
    {
      "cell_type": "markdown",
      "metadata": {
        "id": "view-in-github",
        "colab_type": "text"
      },
      "source": [
        "<a href=\"https://colab.research.google.com/github/alice0212-inju/ABCD-A/blob/20250321/test4.ipynb\" target=\"_parent\"><img src=\"https://colab.research.google.com/assets/colab-badge.svg\" alt=\"Open In Colab\"/></a>"
      ]
    },
    {
      "cell_type": "code",
      "execution_count": null,
      "metadata": {
        "colab": {
          "base_uri": "https://localhost:8080/"
        },
        "id": "GnS4lBcQpQF6",
        "outputId": "4d77a4c3-1f25-4b96-b873-33aa6daab6ab"
      },
      "outputs": [
        {
          "output_type": "execute_result",
          "data": {
            "text/plain": [
              "0.5"
            ]
          },
          "metadata": {},
          "execution_count": 20
        }
      ],
      "source": [
        ">>> 4 / 3\n",
        ">>> 1 / 2"
      ]
    },
    {
      "cell_type": "code",
      "source": [
        ">>> 4 / 2"
      ],
      "metadata": {
        "colab": {
          "base_uri": "https://localhost:8080/"
        },
        "id": "XuaQBFWGpeld",
        "outputId": "f862dead-c9ee-46a7-98bf-b8d716af01ad"
      },
      "execution_count": 21,
      "outputs": [
        {
          "output_type": "execute_result",
          "data": {
            "text/plain": [
              "2.0"
            ]
          },
          "metadata": {},
          "execution_count": 21
        }
      ]
    },
    {
      "cell_type": "code",
      "source": [
        ">>> 7 // 3"
      ],
      "metadata": {
        "colab": {
          "base_uri": "https://localhost:8080/"
        },
        "id": "eW8LFbWGphLQ",
        "outputId": "2311522d-91d9-4c5f-ccc8-57f63264ffd3"
      },
      "execution_count": 20,
      "outputs": [
        {
          "output_type": "execute_result",
          "data": {
            "text/plain": [
              "2"
            ]
          },
          "metadata": {},
          "execution_count": 20
        }
      ]
    },
    {
      "cell_type": "code",
      "source": [
        ">>> 7 % 3"
      ],
      "metadata": {
        "colab": {
          "base_uri": "https://localhost:8080/"
        },
        "id": "93mn5t-Zpj7H",
        "outputId": "f242308e-bb17-4e9b-a599-ada74f6ebc42"
      },
      "execution_count": null,
      "outputs": [
        {
          "output_type": "execute_result",
          "data": {
            "text/plain": [
              "1"
            ]
          },
          "metadata": {},
          "execution_count": 7
        }
      ]
    },
    {
      "cell_type": "code",
      "source": [
        ">>> 2 ** 10"
      ],
      "metadata": {
        "colab": {
          "base_uri": "https://localhost:8080/"
        },
        "id": "muKCxuoopoYX",
        "outputId": "c0feab00-d094-49f6-af07-bb2a82f60960"
      },
      "execution_count": null,
      "outputs": [
        {
          "output_type": "execute_result",
          "data": {
            "text/plain": [
              "1024"
            ]
          },
          "metadata": {},
          "execution_count": 9
        }
      ]
    },
    {
      "cell_type": "code",
      "source": [
        "a=4\n",
        "b=3\n",
        "c=1\n",
        "d=2"
      ],
      "metadata": {
        "id": "Q5cC5YmXpylk"
      },
      "execution_count": null,
      "outputs": []
    },
    {
      "cell_type": "code",
      "source": [
        "print(a/b)\n",
        "print(c/d)"
      ],
      "metadata": {
        "colab": {
          "base_uri": "https://localhost:8080/"
        },
        "id": "BL4GpAEDp8tg",
        "outputId": "00f138f0-63be-4681-e4e4-1354ffeb91ea"
      },
      "execution_count": null,
      "outputs": [
        {
          "output_type": "stream",
          "name": "stdout",
          "text": [
            "1.3333333333333333\n",
            "0.5\n"
          ]
        }
      ]
    },
    {
      "cell_type": "code",
      "source": [
        "e=7\n",
        "f=3"
      ],
      "metadata": {
        "id": "Th4i5KOxqF4h"
      },
      "execution_count": null,
      "outputs": []
    },
    {
      "cell_type": "code",
      "source": [
        "print(e/f)\n",
        "print(e % f)"
      ],
      "metadata": {
        "colab": {
          "base_uri": "https://localhost:8080/"
        },
        "id": "n5NlXVP6qJPX",
        "outputId": "e40b9e08-5362-4a1a-fdc7-00953fee12dd"
      },
      "execution_count": null,
      "outputs": [
        {
          "output_type": "stream",
          "name": "stdout",
          "text": [
            "2.3333333333333335\n",
            "1\n"
          ]
        }
      ]
    },
    {
      "cell_type": "code",
      "source": [
        "print(e**f)"
      ],
      "metadata": {
        "colab": {
          "base_uri": "https://localhost:8080/"
        },
        "id": "8IESAykbqPFe",
        "outputId": "756491fd-994a-4b92-efa6-a40db6d9b228"
      },
      "execution_count": null,
      "outputs": [
        {
          "output_type": "stream",
          "name": "stdout",
          "text": [
            "343\n"
          ]
        }
      ]
    },
    {
      "cell_type": "code",
      "source": [
        "# quotient,remainder-dimond(5,2)\n",
        "#print(quotient,remainder)"
      ],
      "metadata": {
        "id": "JZ_zvEilqSb4"
      },
      "execution_count": 1,
      "outputs": []
    },
    {
      "cell_type": "code",
      "source": [
        "i=3"
      ],
      "metadata": {
        "id": "shdXzGRDfb3v"
      },
      "execution_count": 2,
      "outputs": []
    },
    {
      "cell_type": "code",
      "source": [
        "i +=3"
      ],
      "metadata": {
        "id": "LoBaZ2ZlfeO8"
      },
      "execution_count": 3,
      "outputs": []
    },
    {
      "cell_type": "code",
      "source": [
        "print(i)"
      ],
      "metadata": {
        "colab": {
          "base_uri": "https://localhost:8080/"
        },
        "id": "9leruKVyfi_R",
        "outputId": "38b5e7a0-a7f5-4b0c-a69f-0b9303961376"
      },
      "execution_count": 5,
      "outputs": [
        {
          "output_type": "stream",
          "name": "stdout",
          "text": [
            "6\n"
          ]
        }
      ]
    },
    {
      "cell_type": "code",
      "source": [
        "i=-3"
      ],
      "metadata": {
        "id": "i92uNMTnfnTc"
      },
      "execution_count": 6,
      "outputs": []
    },
    {
      "cell_type": "code",
      "source": [
        "print(i)"
      ],
      "metadata": {
        "colab": {
          "base_uri": "https://localhost:8080/"
        },
        "id": "VqPwflqnfo2x",
        "outputId": "2ad2e9a3-5736-49ea-e4fa-824480a7ccd0"
      },
      "execution_count": 7,
      "outputs": [
        {
          "output_type": "stream",
          "name": "stdout",
          "text": [
            "-3\n"
          ]
        }
      ]
    },
    {
      "cell_type": "code",
      "source": [
        "i=2"
      ],
      "metadata": {
        "id": "k8HAmgqkfrcR"
      },
      "execution_count": 8,
      "outputs": []
    },
    {
      "cell_type": "code",
      "source": [
        "print(i)"
      ],
      "metadata": {
        "colab": {
          "base_uri": "https://localhost:8080/"
        },
        "id": "up5jD2jZftEV",
        "outputId": "785d546f-7fc9-43b5-ce7f-e720e2574e3a"
      },
      "execution_count": 9,
      "outputs": [
        {
          "output_type": "stream",
          "name": "stdout",
          "text": [
            "2\n"
          ]
        }
      ]
    },
    {
      "cell_type": "code",
      "source": [
        "i *=2"
      ],
      "metadata": {
        "id": "JhegxnhJfvju"
      },
      "execution_count": 10,
      "outputs": []
    },
    {
      "cell_type": "code",
      "source": [
        "print(i)"
      ],
      "metadata": {
        "colab": {
          "base_uri": "https://localhost:8080/"
        },
        "id": "j_5RvjDNf4pf",
        "outputId": "42f697c8-f281-4301-f024-e1a239df1dc9"
      },
      "execution_count": 11,
      "outputs": [
        {
          "output_type": "stream",
          "name": "stdout",
          "text": [
            "4\n"
          ]
        }
      ]
    },
    {
      "cell_type": "code",
      "source": [
        "i /=2"
      ],
      "metadata": {
        "id": "mf1X-HATf6F9"
      },
      "execution_count": 12,
      "outputs": []
    },
    {
      "cell_type": "code",
      "source": [
        "print(int(i))"
      ],
      "metadata": {
        "colab": {
          "base_uri": "https://localhost:8080/"
        },
        "id": "ezodMNVof9Li",
        "outputId": "321a8f28-57b3-4958-8e26-8556df5e0166"
      },
      "execution_count": 15,
      "outputs": [
        {
          "output_type": "stream",
          "name": "stdout",
          "text": [
            "2\n"
          ]
        }
      ]
    },
    {
      "cell_type": "code",
      "source": [
        "i%2"
      ],
      "metadata": {
        "colab": {
          "base_uri": "https://localhost:8080/"
        },
        "id": "AeQ8IxyigIpS",
        "outputId": "00d2fcb4-3891-4fee-caa5-136830854448"
      },
      "execution_count": 19,
      "outputs": [
        {
          "output_type": "execute_result",
          "data": {
            "text/plain": [
              "1.0"
            ]
          },
          "metadata": {},
          "execution_count": 19
        }
      ]
    },
    {
      "cell_type": "code",
      "source": [
        "print(i)"
      ],
      "metadata": {
        "colab": {
          "base_uri": "https://localhost:8080/"
        },
        "id": "l-CSD2BWgQI9",
        "outputId": "abe278b4-38b3-4293-c7cc-fb5fbfebb967"
      },
      "execution_count": 18,
      "outputs": [
        {
          "output_type": "stream",
          "name": "stdout",
          "text": [
            "1.0\n"
          ]
        }
      ]
    },
    {
      "cell_type": "code",
      "source": [
        "a=10\n",
        "b=3"
      ],
      "metadata": {
        "id": "w52r4NBagRvZ"
      },
      "execution_count": 26,
      "outputs": []
    },
    {
      "cell_type": "code",
      "source": [
        "#print(\"10 ==3=>\", a == b)\n",
        "#print(\"10!=3=>\",a>=b)\n",
        "#print(\"10>3=>\",a>b)\n",
        "#print(\"10>=3=>\",a>=b)\n",
        "#print(\"10<3=>\",a<b)\n",
        "#print(\"10<=3=>\",a<=b)\n",
        "print()"
      ],
      "metadata": {
        "id": "6SrhPXikgjMH"
      },
      "execution_count": 25,
      "outputs": []
    },
    {
      "cell_type": "code",
      "source": [
        "#a=3\n",
        "#print(bin(a))\n",
        "#print(hex(a))"
      ],
      "metadata": {
        "id": "-JOFSnKdirGe"
      },
      "execution_count": null,
      "outputs": []
    },
    {
      "cell_type": "code",
      "source": [
        "a=13\n",
        "b=9\n",
        "print(bin(a))\n",
        "print(bin(b))\n",
        "print('')\n",
        "print(bin(a&b))"
      ],
      "metadata": {
        "id": "avjt923wCLS6"
      },
      "execution_count": null,
      "outputs": []
    },
    {
      "cell_type": "code",
      "source": [
        "print(bin(a))\n",
        "print(bin(b))\n",
        "print('')\n",
        "print(bin(a|b))\n",
        "print(a|b)"
      ],
      "metadata": {
        "id": "MqQxhEPUCe7P"
      },
      "execution_count": null,
      "outputs": []
    },
    {
      "cell_type": "code",
      "source": [
        "print('')\n",
        "print(bin(a))\n",
        "print(bin(b))\n",
        "print('')\n",
        "print(a^b)"
      ],
      "metadata": {
        "id": "fEr1rWuZDAm_"
      },
      "execution_count": null,
      "outputs": []
    },
    {
      "cell_type": "code",
      "source": [
        "print('')\n",
        "print(bin(a))\n",
        "print(bin(~a))"
      ],
      "metadata": {
        "id": "YixDh3-PDZ2Q"
      },
      "execution_count": null,
      "outputs": []
    }
  ]
}